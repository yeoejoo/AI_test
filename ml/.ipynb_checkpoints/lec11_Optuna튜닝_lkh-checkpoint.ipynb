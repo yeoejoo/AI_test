{
 "cells": [
  {
   "cell_type": "markdown",
   "id": "6fc7d0de-3242-498e-913d-b47a65add8b4",
   "metadata": {},
   "source": [
    "<font size=6><b>Lec11. Optuna \n",
    "* https://optuna.org/\n",
    "* 하이퍼파라미터 튜닝"
   ]
  },
  {
   "cell_type": "code",
   "execution_count": 1,
   "id": "40a4a477-1bf4-457d-a47c-6eaa0c483a16",
   "metadata": {},
   "outputs": [],
   "source": [
    "import numpy as np\n",
    "import pandas as pd\n",
    "import matplotlib.pyplot as plt\n",
    "import seaborn as sns\n",
    "\n",
    "# ------------------------------------------------------ 훈련데이터\n",
    "from sklearn.datasets import load_iris\n",
    "# --------------------------------------------------------------------------\n",
    "from sklearn.model_selection import train_test_split\n",
    "# -------------------------------------------------------------------------- 정규화\n",
    "from sklearn.preprocessing import StandardScaler, MinMaxScaler, RobustScaler\n",
    "# -------------------------------------------------------------------------- 인코딩\n",
    "from sklearn.preprocessing import LabelEncoder, OneHotEncoder\n",
    "# -------------------------------------------------------------------------- 모델\n",
    "from sklearn.tree import DecisionTreeClassifier\n",
    "from sklearn.ensemble import RandomForestClassifier\n",
    "# -------------------------------------------------------------------------- 평가\n",
    "from sklearn.metrics import accuracy_score\n",
    "from sklearn.metrics import precision_score, recall_score, f1_score, roc_auc_score \n",
    "from sklearn.metrics import confusion_matrix,classification_report\n",
    "from sklearn.metrics import roc_curve, roc_auc_score\n",
    "# -------------------------------------------------------------------------- 교차검증\n",
    "from sklearn.model_selection import KFold, StratifiedKFold\n",
    "from sklearn.model_selection import cross_val_score, cross_validate\n",
    "from sklearn.model_selection import GridSearchCV\n",
    "# --------------------------------------------------------------------------\n",
    "\n",
    "import warnings\n",
    "warnings.filterwarnings(action=\"ignore\")"
   ]
  },
  {
   "cell_type": "code",
   "execution_count": 2,
   "id": "57cea09c-71c4-4202-87e7-f7eadcf2ed9b",
   "metadata": {},
   "outputs": [],
   "source": [
    "#-------------------- 차트 관련 속성 (한글처리, 그리드) -----------\n",
    "plt.rcParams['font.family']= 'Malgun Gothic'\n",
    "plt.rcParams['axes.unicode_minus'] = False\n",
    "\n",
    "#-------------------- 차트 관련 속성 (차트크기 ) -----------\n",
    "# plt.rcParams['figure.figsize'] = (4, 2)\n",
    "# plt.rcParams['font.size'] = 7"
   ]
  },
  {
   "cell_type": "markdown",
   "id": "892dc8a0-9dd9-4afc-a669-19768b4268cb",
   "metadata": {},
   "source": [
    "# Basic Tutorial"
   ]
  },
  {
   "cell_type": "markdown",
   "id": "6a8f67fc-5163-4e3d-b2e5-fada515d7afc",
   "metadata": {},
   "source": [
    "<ol>\n",
    "<li>Wrap model training with an<code>objective</code> function and return score matrics</li>\n",
    "<li><code>Suggest hyperparameters</code> using a <code>trial</code> object</li>\n",
    "<li>Create a <code>study</code> object and execute the optimization</li>\n",
    "</ol>"
   ]
  },
  {
   "cell_type": "markdown",
   "id": "6f7ed98e-5e23-499e-ae89-64d6f1ae6fc6",
   "metadata": {},
   "source": [
    "* optuna.trial.Trial.suggest_categorical() : 리스트 범위 내에서 값을 선택한다.\n",
    "* optuna.trial.Trial.suggest_int() : 범위 내에서 정수형 값을 선택한다.\n",
    "* optuna.trial.Trial.suggest_float() : 범위 내에서 소수형 값을 선택한다.\n",
    "* optuna.trial.Trial.suggest_uniform() : 범위 내에서 균일분포 값을 선택한다.\n",
    "* optuna.trial.Trial.suggest_discrete_uniform() : 범위 내에서 이산 균일분포 값을 선택한다.\n",
    "* optuna.trial.Trial.suggest_loguniform() : 범위 내에서 로그 함수 값을 선택한다."
   ]
  },
  {
   "cell_type": "code",
   "execution_count": 12,
   "id": "b9b7a863-194b-402f-8508-684f598c8c69",
   "metadata": {},
   "outputs": [],
   "source": [
    "import optuna\n",
    "\n",
    "import sklearn.datasets\n",
    "import sklearn.ensemble\n",
    "import sklearn.model_selection\n",
    "import sklearn.svm\n",
    "import logging \n",
    "\n",
    "optuna.logging.set_verbosity(logging.CRITICAL)\n",
    "\n",
    "iris = sklearn.datasets.load_iris()\n",
    "x, y = iris.data, iris.target\n",
    "\n",
    "\n",
    "def my_objective(trial):\n",
    "    classifier_name = trial.suggest_categorical(\"classifier\", [\"SVC\", \"RandomForest\"])\n",
    "    if classifier_name == \"SVC\":\n",
    "        svc_c = trial.suggest_float(\"svc_c\", 1e-10, 1e10, log=True)\n",
    "        model = sklearn.svm.SVC(C=svc_c, gamma=\"auto\")\n",
    "    else:\n",
    "        rf_max_depth = trial.suggest_int(\"rf_max_depth\", 2, 32, log=True)\n",
    "        model = sklearn.ensemble.RandomForestClassifier(\n",
    "            max_depth=rf_max_depth, n_estimators=10\n",
    "        )\n",
    "\n",
    "    scores = cross_val_score(model, x, y, cv=3, scoring=\"accuracy\")\n",
    "    accuracy = scores.mean()\n",
    "    return accuracy"
   ]
  },
  {
   "cell_type": "code",
   "execution_count": 13,
   "id": "364de11f-fd81-46d6-9eb5-3efc9e847077",
   "metadata": {},
   "outputs": [
    {
     "name": "stdout",
     "output_type": "stream",
     "text": [
      "FrozenTrial(number=0, state=TrialState.COMPLETE, values=[0.96], datetime_start=datetime.datetime(2023, 9, 6, 11, 8, 54, 975978), datetime_complete=datetime.datetime(2023, 9, 6, 11, 8, 55, 79695), params={'classifier': 'RandomForest', 'rf_max_depth': 12}, user_attrs={}, system_attrs={}, intermediate_values={}, distributions={'classifier': CategoricalDistribution(choices=('SVC', 'RandomForest')), 'rf_max_depth': IntDistribution(high=32, log=True, low=2, step=1)}, trial_id=0, value=None)\n"
     ]
    }
   ],
   "source": [
    "#--------------------------- 호출\n",
    "study = optuna.create_study(direction=\"maximize\")\n",
    "study.optimize(my_objective, n_trials=10)\n",
    "\n",
    "print(study.best_trial)"
   ]
  },
  {
   "cell_type": "code",
   "execution_count": 14,
   "id": "9f60af62-42df-429e-a2d6-9ee4d8078a37",
   "metadata": {},
   "outputs": [
    {
     "name": "stdout",
     "output_type": "stream",
     "text": [
      "Number of finished trials: 10       \n",
      "Best trial               : FrozenTrial(number=0, state=TrialState.COMPLETE, values=[0.96], datetime_start=datetime.datetime(2023, 9, 6, 11, 8, 54, 975978), datetime_complete=datetime.datetime(2023, 9, 6, 11, 8, 55, 79695), params={'classifier': 'RandomForest', 'rf_max_depth': 12}, user_attrs={}, system_attrs={}, intermediate_values={}, distributions={'classifier': CategoricalDistribution(choices=('SVC', 'RandomForest')), 'rf_max_depth': IntDistribution(high=32, log=True, low=2, step=1)}, trial_id=0, value=None)        \n",
      "Best score               : 0.96  \n",
      "Best hyper-param         : {'classifier': 'RandomForest', 'rf_max_depth': 12} \n"
     ]
    }
   ],
   "source": [
    "print(f\"Number of finished trials: {len(study.trials)}       \")\n",
    "print(f\"Best trial               : {study.best_trial}        \")\n",
    "print(f\"Best score               : {study.best_trial.value}  \")\n",
    "print(f\"Best hyper-param         : {study.best_trial.params} \")\n",
    "#print([(key, value) for key, value in study.best_trial.params.items()] )  "
   ]
  },
  {
   "cell_type": "code",
   "execution_count": null,
   "id": "e3232249-6c9e-4773-a393-28c3dab113c2",
   "metadata": {},
   "outputs": [],
   "source": []
  }
 ],
 "metadata": {
  "kernelspec": {
   "display_name": "Python 3 (ipykernel)",
   "language": "python",
   "name": "python3"
  },
  "language_info": {
   "codemirror_mode": {
    "name": "ipython",
    "version": 3
   },
   "file_extension": ".py",
   "mimetype": "text/x-python",
   "name": "python",
   "nbconvert_exporter": "python",
   "pygments_lexer": "ipython3",
   "version": "3.8.8"
  }
 },
 "nbformat": 4,
 "nbformat_minor": 5
}
