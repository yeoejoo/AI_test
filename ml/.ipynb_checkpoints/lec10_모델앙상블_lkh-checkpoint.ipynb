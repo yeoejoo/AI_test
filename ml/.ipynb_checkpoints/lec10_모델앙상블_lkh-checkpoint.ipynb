{
 "cells": [
  {
   "cell_type": "markdown",
   "id": "02e6ed6b-dbe2-4353-8ad4-8bef281f681b",
   "metadata": {
    "tags": []
   },
   "source": [
    "<font size=6><b>Lec10. 앙상블 모델"
   ]
  },
  {
   "cell_type": "code",
   "execution_count": 20,
   "id": "0ec1a46d-8aaa-4eae-b877-e7b02a300fa1",
   "metadata": {},
   "outputs": [],
   "source": [
    "import numpy as np\n",
    "import pandas as pd\n",
    "import matplotlib.pyplot as plt\n",
    "import seaborn as sns\n",
    "\n",
    "# ------------------------------------------------------ 훈련데이터\n",
    "from sklearn.datasets import load_iris\n",
    "# --------------------------------------------------------------------------\n",
    "from sklearn.model_selection import train_test_split\n",
    "# -------------------------------------------------------------------------- 정규화\n",
    "from sklearn.preprocessing import StandardScaler, MinMaxScaler, RobustScaler\n",
    "# -------------------------------------------------------------------------- 인코딩\n",
    "from sklearn.preprocessing import LabelEncoder, OneHotEncoder\n",
    "# -------------------------------------------------------------------------- 모델\n",
    "from sklearn.tree import DecisionTreeClassifier\n",
    "# -------------------------------------------------------------------------- 평가\n",
    "from sklearn.metrics import accuracy_score\n",
    "from sklearn.metrics import precision_score, recall_score, f1_score, roc_auc_score \n",
    "from sklearn.metrics import confusion_matrix,classification_report\n",
    "from sklearn.metrics import roc_curve, roc_auc_score\n",
    "# -------------------------------------------------------------------------- 교차검증\n",
    "from sklearn.model_selection import KFold, StratifiedKFold\n",
    "from sklearn.model_selection import cross_val_score, cross_validate\n",
    "# --------------------------------------------------------------------------\n",
    "\n",
    "import warnings\n",
    "warnings.filterwarnings(action=\"ignore\")"
   ]
  },
  {
   "cell_type": "code",
   "execution_count": 5,
   "id": "17614983-d3f9-4e6a-84f7-9c90ea5ec671",
   "metadata": {},
   "outputs": [],
   "source": [
    "#-------------------- 차트 관련 속성 (한글처리, 그리드) -----------\n",
    "plt.rcParams['font.family']= 'Malgun Gothic'\n",
    "plt.rcParams['axes.unicode_minus'] = False\n",
    "\n",
    "#-------------------- 차트 관련 속성 (차트크기 ) -----------\n",
    "# plt.rcParams['figure.figsize'] = (4, 2)\n",
    "# plt.rcParams['font.size'] = 7"
   ]
  },
  {
   "cell_type": "markdown",
   "id": "0ee74aa9-ad33-4f07-a712-ab1978c6b9fd",
   "metadata": {},
   "source": [
    "# Data Load\n",
    "* df.info()\n",
    "* df.shape\n",
    "* df.head()"
   ]
  },
  {
   "cell_type": "code",
   "execution_count": 8,
   "id": "0d8af915-e926-4b2f-911d-b2f16986456b",
   "metadata": {},
   "outputs": [
    {
     "name": "stdout",
     "output_type": "stream",
     "text": [
      "<class 'pandas.core.frame.DataFrame'>\n",
      "RangeIndex: 891 entries, 0 to 890\n",
      "Data columns (total 10 columns):\n",
      " #   Column           Non-Null Count  Dtype  \n",
      "---  ------           --------------  -----  \n",
      " 0   survived         891 non-null    int64  \n",
      " 1   pclass           891 non-null    int64  \n",
      " 2   sex              891 non-null    int64  \n",
      " 3   age              891 non-null    int64  \n",
      " 4   fare             891 non-null    float64\n",
      " 5   name_title       891 non-null    int64  \n",
      " 6   family           891 non-null    int64  \n",
      " 7   fare_per_family  891 non-null    float64\n",
      " 8   cabin2           891 non-null    int64  \n",
      " 9   etc              891 non-null    int64  \n",
      "dtypes: float64(2), int64(8)\n",
      "memory usage: 69.7 KB\n"
     ]
    }
   ],
   "source": [
    "df = pd.read_csv(\"./lec10_가공완료_titanic.csv\")\n",
    "df.info()"
   ]
  },
  {
   "cell_type": "code",
   "execution_count": 9,
   "id": "8e511ff9-b3b0-4608-8931-678d1b280c85",
   "metadata": {},
   "outputs": [
    {
     "data": {
      "text/plain": [
       "(891, 10)"
      ]
     },
     "execution_count": 9,
     "metadata": {},
     "output_type": "execute_result"
    }
   ],
   "source": [
    "df.shape"
   ]
  },
  {
   "cell_type": "code",
   "execution_count": 10,
   "id": "90b92b65-5a4a-445c-8689-b0fcbe8c5e10",
   "metadata": {},
   "outputs": [
    {
     "data": {
      "text/html": [
       "<div>\n",
       "<style scoped>\n",
       "    .dataframe tbody tr th:only-of-type {\n",
       "        vertical-align: middle;\n",
       "    }\n",
       "\n",
       "    .dataframe tbody tr th {\n",
       "        vertical-align: top;\n",
       "    }\n",
       "\n",
       "    .dataframe thead th {\n",
       "        text-align: right;\n",
       "    }\n",
       "</style>\n",
       "<table border=\"1\" class=\"dataframe\">\n",
       "  <thead>\n",
       "    <tr style=\"text-align: right;\">\n",
       "      <th></th>\n",
       "      <th>survived</th>\n",
       "      <th>pclass</th>\n",
       "      <th>sex</th>\n",
       "      <th>age</th>\n",
       "      <th>fare</th>\n",
       "      <th>name_title</th>\n",
       "      <th>family</th>\n",
       "      <th>fare_per_family</th>\n",
       "      <th>cabin2</th>\n",
       "      <th>etc</th>\n",
       "    </tr>\n",
       "  </thead>\n",
       "  <tbody>\n",
       "    <tr>\n",
       "      <th>0</th>\n",
       "      <td>0</td>\n",
       "      <td>3</td>\n",
       "      <td>0</td>\n",
       "      <td>2</td>\n",
       "      <td>7.2500</td>\n",
       "      <td>0</td>\n",
       "      <td>1</td>\n",
       "      <td>3.62500</td>\n",
       "      <td>0</td>\n",
       "      <td>0</td>\n",
       "    </tr>\n",
       "    <tr>\n",
       "      <th>1</th>\n",
       "      <td>1</td>\n",
       "      <td>1</td>\n",
       "      <td>1</td>\n",
       "      <td>3</td>\n",
       "      <td>71.2833</td>\n",
       "      <td>1</td>\n",
       "      <td>1</td>\n",
       "      <td>35.64165</td>\n",
       "      <td>3</td>\n",
       "      <td>1</td>\n",
       "    </tr>\n",
       "    <tr>\n",
       "      <th>2</th>\n",
       "      <td>1</td>\n",
       "      <td>3</td>\n",
       "      <td>1</td>\n",
       "      <td>2</td>\n",
       "      <td>7.9250</td>\n",
       "      <td>2</td>\n",
       "      <td>0</td>\n",
       "      <td>7.92500</td>\n",
       "      <td>0</td>\n",
       "      <td>0</td>\n",
       "    </tr>\n",
       "    <tr>\n",
       "      <th>3</th>\n",
       "      <td>1</td>\n",
       "      <td>1</td>\n",
       "      <td>1</td>\n",
       "      <td>3</td>\n",
       "      <td>53.1000</td>\n",
       "      <td>1</td>\n",
       "      <td>1</td>\n",
       "      <td>26.55000</td>\n",
       "      <td>3</td>\n",
       "      <td>1</td>\n",
       "    </tr>\n",
       "    <tr>\n",
       "      <th>4</th>\n",
       "      <td>0</td>\n",
       "      <td>3</td>\n",
       "      <td>0</td>\n",
       "      <td>3</td>\n",
       "      <td>8.0500</td>\n",
       "      <td>0</td>\n",
       "      <td>0</td>\n",
       "      <td>8.05000</td>\n",
       "      <td>0</td>\n",
       "      <td>0</td>\n",
       "    </tr>\n",
       "  </tbody>\n",
       "</table>\n",
       "</div>"
      ],
      "text/plain": [
       "   survived  pclass  sex  age     fare  name_title  family  fare_per_family  \\\n",
       "0         0       3    0    2   7.2500           0       1          3.62500   \n",
       "1         1       1    1    3  71.2833           1       1         35.64165   \n",
       "2         1       3    1    2   7.9250           2       0          7.92500   \n",
       "3         1       1    1    3  53.1000           1       1         26.55000   \n",
       "4         0       3    0    3   8.0500           0       0          8.05000   \n",
       "\n",
       "   cabin2  etc  \n",
       "0       0    0  \n",
       "1       3    1  \n",
       "2       0    0  \n",
       "3       3    1  \n",
       "4       0    0  "
      ]
     },
     "execution_count": 10,
     "metadata": {},
     "output_type": "execute_result"
    }
   ],
   "source": [
    "df.head()"
   ]
  },
  {
   "cell_type": "markdown",
   "id": "ae56e79f-0daf-4010-a8c6-14aa5ab03394",
   "metadata": {},
   "source": [
    "# 1차 점수"
   ]
  },
  {
   "cell_type": "code",
   "execution_count": 24,
   "id": "7bafd81a-32e1-42b5-90bf-5aaa934953aa",
   "metadata": {},
   "outputs": [
    {
     "name": "stdout",
     "output_type": "stream",
     "text": [
      "accuracy:0.7985  f1:0.7128  f1(cv):0.7285\n"
     ]
    }
   ],
   "source": [
    "from sklearn.model_selection import train_test_split\n",
    "from sklearn.tree import DecisionTreeClassifier\n",
    "from sklearn.metrics import accuracy_score, f1_score\n",
    "\n",
    "y = df[\"survived\"]\n",
    "X = df.drop('survived', axis=1)\n",
    "\n",
    "train_X, test_X, train_y, test_y = train_test_split(X, y, test_size=0.3, random_state=11, stratify=y)\n",
    "model = DecisionTreeClassifier(random_state=11)\n",
    "model.fit(train_X, train_y)\n",
    "pred = model.predict(test_X)\n",
    "\n",
    "# ----------------- 학습1회 점수 --------------------------------------\n",
    "accuracy = accuracy_score(test_y, pred)\n",
    "f1       = f1_score(test_y, pred)\n",
    "# ----------------- 학습5회 점수 (교차검증)  ---------------------------\n",
    "skfold = StratifiedKFold(n_splits=5, shuffle=True, random_state=1212)\n",
    "score_arr = cross_val_score(model, X, y, cv=skfold, scoring=\"f1\")\n",
    "\n",
    "print(f\"accuracy:{accuracy:.4f}  f1:{f1:.4f}  f1(cv):{score_arr.mean():.4f}\")"
   ]
  },
  {
   "cell_type": "markdown",
   "id": "bef63bfe-6ae1-452d-835d-afba1c416dcb",
   "metadata": {},
   "source": [
    "# 모델 변경\n",
    "* 트리 : LogisticRegression, DecisionTreeClassifier\n",
    "* 보팅 : VotingClassifier\n",
    "* 배깅 : BaggingClassifier, RandomForestClassifier\n",
    "* 부스팅 : AdaBoostClassifier, GradientBoostingClassifier\n",
    "* 스태킹 : StackingClassifier\n",
    "* 외부 부스팅 : XGBoost, LightGBM"
   ]
  },
  {
   "cell_type": "code",
   "execution_count": 33,
   "id": "82a97f5b-9b04-4639-81db-880471a00916",
   "metadata": {},
   "outputs": [],
   "source": [
    "# ! pip install xgboost\n",
    "# ! pip install lightgbm\n",
    "# ! pip install catboost"
   ]
  },
  {
   "cell_type": "markdown",
   "id": "b0c5b52a-d5e0-477d-a6a0-b28a7147a835",
   "metadata": {},
   "source": [
    "```python\n",
    "class sklearn.linear_model.LogisticRegression(penalty='l2', *, dual=False, tol=0.0001, C=1.0, fit_intercept=True, intercept_scaling=1, class_weight=None, random_state=None, solver='lbfgs', max_iter=100, multi_class='auto', verbose=0, warm_start=False, n_jobs=None, l1_ratio=None)\n",
    "\n",
    "class sklearn.tree.DecisionTreeClassifier(*, criterion='gini', splitter='best', max_depth=None, min_samples_split=2, min_samples_leaf=1, min_weight_fraction_leaf=0.0, max_features=None, random_state=None, max_leaf_nodes=None, min_impurity_decrease=0.0, class_weight=None, ccp_alpha=0.0)\n",
    "\n",
    "class sklearn.ensemble.VotingClassifier(estimators, *, voting='hard', weights=None, n_jobs=None, flatten_transform=True, verbose=False)\n",
    "\n",
    "class sklearn.ensemble.BaggingClassifier(estimator=None, n_estimators=10, *, max_samples=1.0, max_features=1.0, bootstrap=True, bootstrap_features=False, oob_score=False, warm_start=False, n_jobs=None, random_state=None, verbose=0, base_estimator='deprecated')\n",
    "\n",
    "class sklearn.ensemble.RandomForestClassifier(n_estimators=100, *, criterion='gini', max_depth=None, min_samples_split=2, min_samples_leaf=1, min_weight_fraction_leaf=0.0, max_features='sqrt', max_leaf_nodes=None, min_impurity_decrease=0.0, bootstrap=True, oob_score=False, n_jobs=None, random_state=None, verbose=0, warm_start=False, class_weight=None, ccp_alpha=0.0, max_samples=None)\n",
    "\n",
    "class sklearn.ensemble.GradientBoostingClassifier(*, loss='log_loss', learning_rate=0.1, n_estimators=100, subsample=1.0, criterion='friedman_mse', min_samples_split=2, min_samples_leaf=1, min_weight_fraction_leaf=0.0, max_depth=3, min_impurity_decrease=0.0, init=None, random_state=None, max_features=None, verbose=0, max_leaf_nodes=None, warm_start=False, validation_fraction=0.1, n_iter_no_change=None, tol=0.0001, ccp_alpha=0.0)\n",
    "class sklearn.ensemble.StackingClassifier(estimators, final_estimator=None, *, cv=None, stack_method='auto', n_jobs=None, passthrough=False, verbose=0)\n",
    "```\n"
   ]
  },
  {
   "cell_type": "code",
   "execution_count": 39,
   "id": "297dab40-00d4-4604-bbc4-e661aa152510",
   "metadata": {},
   "outputs": [],
   "source": [
    "from sklearn.linear_model import LogisticRegression\n",
    "from sklearn.tree import DecisionTreeClassifier\n",
    "from sklearn.ensemble import VotingClassifier\n",
    "from sklearn.ensemble import BaggingClassifier, RandomForestClassifier\n",
    "from sklearn.ensemble import AdaBoostClassifier, GradientBoostingClassifier\n",
    "from sklearn.ensemble import StackingClassifier\n",
    "import xgboost as xgb\n",
    "import lightgbm as lgb\n",
    "from catboost import CatBoostClassifier"
   ]
  },
  {
   "cell_type": "code",
   "execution_count": 43,
   "id": "4e515b00-53c9-44f0-bd36-9e4b8972a8de",
   "metadata": {},
   "outputs": [],
   "source": [
    "lr = LogisticRegression(random_state=11)\n",
    "dt = DecisionTreeClassifier(random_state=11)\n",
    "\n",
    "voting = VotingClassifier(estimators=[ ('lr', lr), ('df', df)], voting='hard')\n",
    "\n",
    "bagging = BaggingClassifier(estimator=dt, n_estimators=10, random_state=11)\n",
    "rf = RandomForestClassifier(n_estimators=20,random_state=11)\n",
    "\n",
    "gboost = GradientBoostingClassifier(loss='log_loss', learning_rate=0.1, n_estimators=20, random_state=11)\n",
    "\n",
    "skfold = StratifiedKFold(n_splits=3, shuffle=True, random_state=1212)  # 분류\n",
    "staking = StackingClassifier(estimators=[ ('lr', lr), ('df', df)], final_estimator=rf, cv=skfold)"
   ]
  },
  {
   "cell_type": "markdown",
   "id": "ed05b3e5-d7d1-4c8c-9f64-9256a4ef040d",
   "metadata": {},
   "source": [
    "### Xgboost\n",
    "* https://xgboost.readthedocs.io/en/latest/python/python_api.html"
   ]
  },
  {
   "cell_type": "markdown",
   "id": "d3d84cc8-b322-4e35-a58d-95fe09794e1f",
   "metadata": {},
   "source": [
    "### LightGBM\n",
    "* https://lightgbm.readthedocs.io/en/latest/Python-API.html"
   ]
  },
  {
   "cell_type": "markdown",
   "id": "8793b37f-90bb-469f-91a1-00af6e8b7a7e",
   "metadata": {},
   "source": [
    "### Catboost\n",
    "* https://catboost.ai/en/docs/"
   ]
  },
  {
   "cell_type": "markdown",
   "id": "1e455be8-033d-4373-ab18-0719f061a8f0",
   "metadata": {},
   "source": [
    "# 파이프라인"
   ]
  },
  {
   "cell_type": "code",
   "execution_count": null,
   "id": "16b59e5b-87d2-4941-bbf9-8b6225746f62",
   "metadata": {},
   "outputs": [],
   "source": [
    "from sklearn.pipeline import Pipeline"
   ]
  },
  {
   "cell_type": "code",
   "execution_count": null,
   "id": "894bd884-ff93-43c5-acdc-67684ab1e4a8",
   "metadata": {},
   "outputs": [],
   "source": []
  },
  {
   "cell_type": "markdown",
   "id": "c8053121-f926-43e4-bcc7-9aef3a22a879",
   "metadata": {},
   "source": [
    "# pycaret"
   ]
  },
  {
   "cell_type": "code",
   "execution_count": null,
   "id": "4d95df7b-3ff5-4751-9e1e-b3698f2feb91",
   "metadata": {},
   "outputs": [],
   "source": []
  },
  {
   "cell_type": "code",
   "execution_count": null,
   "id": "644d9096-2c74-4fd9-9f81-a057c4f0c076",
   "metadata": {},
   "outputs": [],
   "source": []
  },
  {
   "cell_type": "code",
   "execution_count": null,
   "id": "5ddbc562-8e15-418e-ad72-cba9cb2ccd60",
   "metadata": {},
   "outputs": [],
   "source": []
  }
 ],
 "metadata": {
  "kernelspec": {
   "display_name": "Python 3 (ipykernel)",
   "language": "python",
   "name": "python3"
  },
  "language_info": {
   "codemirror_mode": {
    "name": "ipython",
    "version": 3
   },
   "file_extension": ".py",
   "mimetype": "text/x-python",
   "name": "python",
   "nbconvert_exporter": "python",
   "pygments_lexer": "ipython3",
   "version": "3.8.8"
  }
 },
 "nbformat": 4,
 "nbformat_minor": 5
}
