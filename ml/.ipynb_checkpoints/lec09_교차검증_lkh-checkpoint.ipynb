{
 "cells": [
  {
   "cell_type": "markdown",
   "id": "6719f242-b91d-4126-9695-aa5ad47e4d5b",
   "metadata": {
    "tags": []
   },
   "source": [
    "<font size=6><b>Lec09. 교차검증\n",
    "* https://amueller.github.io/aml/04-model-evaluation/1-data-splitting-strategies.html"
   ]
  },
  {
   "cell_type": "code",
   "execution_count": 1,
   "id": "0ec1a46d-8aaa-4eae-b877-e7b02a300fa1",
   "metadata": {},
   "outputs": [],
   "source": [
    "import numpy as np\n",
    "import pandas as pd\n",
    "import matplotlib.pyplot as plt\n",
    "import seaborn as sns\n",
    "\n",
    "# ------------------------------------------------------\n",
    "from sklearn.datasets import load_iris\n",
    "from sklearn.model_selection import train_test_split\n",
    "from sklearn.preprocessing import StandardScaler, MinMaxScaler, RobustScaler\n",
    "from sklearn.preprocessing import LabelEncoder, OneHotEncoder\n",
    "from sklearn.tree import DecisionTreeClassifier\n",
    "# ------------------------------------------------------\n",
    "\n",
    "from sklearn.metrics import accuracy_score\n",
    "from sklearn.metrics import precision_score, recall_score, f1_score, roc_auc_score \n",
    "from sklearn.metrics import confusion_matrix,classification_report\n",
    "from sklearn.metrics import roc_curve, roc_auc_score\n",
    "# ------------------------------------------------------\n",
    "\n",
    "\n",
    "import warnings\n",
    "warnings.filterwarnings(action=\"ignore\")"
   ]
  },
  {
   "cell_type": "code",
   "execution_count": 2,
   "id": "17614983-d3f9-4e6a-84f7-9c90ea5ec671",
   "metadata": {},
   "outputs": [],
   "source": [
    "#-------------------- 차트 관련 속성 (한글처리, 그리드) -----------\n",
    "plt.rcParams['font.family']= 'Malgun Gothic'\n",
    "plt.rcParams['axes.unicode_minus'] = False\n",
    "\n",
    "#-------------------- 차트 관련 속성 (차트크기 ) -----------\n",
    "# plt.rcParams['figure.figsize'] = (4, 2)\n",
    "# plt.rcParams['font.size'] = 7"
   ]
  },
  {
   "cell_type": "markdown",
   "id": "7c9bb93e-061e-4d4d-9ec0-7eadcd2c23e1",
   "metadata": {},
   "source": [
    "# Data Load\n",
    "* df.info()\n",
    "* df.shape\n",
    "* df.head()"
   ]
  },
  {
   "cell_type": "code",
   "execution_count": 3,
   "id": "0d8af915-e926-4b2f-911d-b2f16986456b",
   "metadata": {},
   "outputs": [
    {
     "data": {
      "text/plain": [
       "dict_keys(['data', 'target', 'frame', 'target_names', 'DESCR', 'feature_names', 'filename', 'data_module'])"
      ]
     },
     "execution_count": 3,
     "metadata": {},
     "output_type": "execute_result"
    }
   ],
   "source": [
    "data = load_iris()\n",
    "data.keys()"
   ]
  },
  {
   "cell_type": "code",
   "execution_count": 4,
   "id": "c4171eb9-3027-452d-9802-831129d4ae95",
   "metadata": {},
   "outputs": [
    {
     "data": {
      "text/html": [
       "<div>\n",
       "<style scoped>\n",
       "    .dataframe tbody tr th:only-of-type {\n",
       "        vertical-align: middle;\n",
       "    }\n",
       "\n",
       "    .dataframe tbody tr th {\n",
       "        vertical-align: top;\n",
       "    }\n",
       "\n",
       "    .dataframe thead th {\n",
       "        text-align: right;\n",
       "    }\n",
       "</style>\n",
       "<table border=\"1\" class=\"dataframe\">\n",
       "  <thead>\n",
       "    <tr style=\"text-align: right;\">\n",
       "      <th></th>\n",
       "      <th>sl</th>\n",
       "      <th>sw</th>\n",
       "      <th>pl</th>\n",
       "      <th>pw</th>\n",
       "      <th>target</th>\n",
       "    </tr>\n",
       "  </thead>\n",
       "  <tbody>\n",
       "    <tr>\n",
       "      <th>0</th>\n",
       "      <td>5.1</td>\n",
       "      <td>3.5</td>\n",
       "      <td>1.4</td>\n",
       "      <td>0.2</td>\n",
       "      <td>0</td>\n",
       "    </tr>\n",
       "    <tr>\n",
       "      <th>1</th>\n",
       "      <td>4.9</td>\n",
       "      <td>3.0</td>\n",
       "      <td>1.4</td>\n",
       "      <td>0.2</td>\n",
       "      <td>0</td>\n",
       "    </tr>\n",
       "    <tr>\n",
       "      <th>2</th>\n",
       "      <td>4.7</td>\n",
       "      <td>3.2</td>\n",
       "      <td>1.3</td>\n",
       "      <td>0.2</td>\n",
       "      <td>0</td>\n",
       "    </tr>\n",
       "    <tr>\n",
       "      <th>3</th>\n",
       "      <td>4.6</td>\n",
       "      <td>3.1</td>\n",
       "      <td>1.5</td>\n",
       "      <td>0.2</td>\n",
       "      <td>0</td>\n",
       "    </tr>\n",
       "    <tr>\n",
       "      <th>4</th>\n",
       "      <td>5.0</td>\n",
       "      <td>3.6</td>\n",
       "      <td>1.4</td>\n",
       "      <td>0.2</td>\n",
       "      <td>0</td>\n",
       "    </tr>\n",
       "  </tbody>\n",
       "</table>\n",
       "</div>"
      ],
      "text/plain": [
       "    sl   sw   pl   pw  target\n",
       "0  5.1  3.5  1.4  0.2       0\n",
       "1  4.9  3.0  1.4  0.2       0\n",
       "2  4.7  3.2  1.3  0.2       0\n",
       "3  4.6  3.1  1.5  0.2       0\n",
       "4  5.0  3.6  1.4  0.2       0"
      ]
     },
     "execution_count": 4,
     "metadata": {},
     "output_type": "execute_result"
    }
   ],
   "source": [
    "df = pd.DataFrame(data=data[\"data\"], columns=data[\"feature_names\"] )  #index=[]\n",
    "df.columns = [\"sl\",\"sw\",\"pl\",\"pw\"]\n",
    "df['target'] = data[\"target\"]\n",
    "df.head()"
   ]
  },
  {
   "cell_type": "code",
   "execution_count": 5,
   "id": "68cd8f79-03ea-4ce0-a22e-ae2f8ddff039",
   "metadata": {},
   "outputs": [
    {
     "name": "stdout",
     "output_type": "stream",
     "text": [
      "<class 'pandas.core.frame.DataFrame'>\n",
      "RangeIndex: 150 entries, 0 to 149\n",
      "Data columns (total 5 columns):\n",
      " #   Column  Non-Null Count  Dtype  \n",
      "---  ------  --------------  -----  \n",
      " 0   sl      150 non-null    float64\n",
      " 1   sw      150 non-null    float64\n",
      " 2   pl      150 non-null    float64\n",
      " 3   pw      150 non-null    float64\n",
      " 4   target  150 non-null    int32  \n",
      "dtypes: float64(4), int32(1)\n",
      "memory usage: 5.4 KB\n"
     ]
    }
   ],
   "source": [
    "df.info()"
   ]
  },
  {
   "cell_type": "code",
   "execution_count": 6,
   "id": "480b03ce-d0e9-464e-b575-6a43230a12c9",
   "metadata": {},
   "outputs": [
    {
     "data": {
      "text/plain": [
       "(150, 5)"
      ]
     },
     "execution_count": 6,
     "metadata": {},
     "output_type": "execute_result"
    }
   ],
   "source": [
    "df.shape"
   ]
  },
  {
   "cell_type": "markdown",
   "id": "81e238e0-45ec-43e1-8641-8163b6650351",
   "metadata": {},
   "source": [
    "# 교차검증(corss-validation)\n",
    "* Defaults in scikit-learn\n",
    "    * 5-fold in 0.22 (used to be 3 fold)\n",
    "    * For classification cross-validation is stratified\n",
    "    * train_test_split has stratify option: train_test_split(X, y, stratify=y)\n",
    "    * No shuffle by default!"
   ]
  },
  {
   "cell_type": "markdown",
   "id": "cd744d93-cd39-4f06-8f37-e5d30202ff20",
   "metadata": {},
   "source": [
    "* enumerate 연습"
   ]
  },
  {
   "cell_type": "code",
   "execution_count": 7,
   "id": "b6b2d898-892b-45ee-a94b-a4fec88f9e64",
   "metadata": {},
   "outputs": [
    {
     "name": "stdout",
     "output_type": "stream",
     "text": [
      "1\n",
      "2\n",
      "3\n"
     ]
    }
   ],
   "source": [
    "for v in [1,2,3]:\n",
    "    print(v)"
   ]
  },
  {
   "cell_type": "code",
   "execution_count": 8,
   "id": "f69850bb-1612-4540-b8e6-db81b2822ee3",
   "metadata": {},
   "outputs": [
    {
     "name": "stdout",
     "output_type": "stream",
     "text": [
      "0 1\n",
      "1 2\n",
      "2 3\n"
     ]
    }
   ],
   "source": [
    "for loop_cnt, v in enumerate([1,2,3]):\n",
    "    print(loop_cnt, v)"
   ]
  },
  {
   "cell_type": "code",
   "execution_count": 9,
   "id": "9286544f-41a2-4c48-a0ab-8b17269236c7",
   "metadata": {},
   "outputs": [
    {
     "name": "stdout",
     "output_type": "stream",
     "text": [
      "0 [1, 10]\n",
      "1 [2, 20]\n",
      "2 [3, 30]\n"
     ]
    }
   ],
   "source": [
    "for loop_cnt, v in enumerate([ [1,10] ,  [2,20] ,  [3,30]]):\n",
    "    print(loop_cnt, v)"
   ]
  },
  {
   "cell_type": "code",
   "execution_count": 10,
   "id": "6bcadcb3-80ec-469a-88c5-83e2fe3f8fd5",
   "metadata": {},
   "outputs": [
    {
     "name": "stdout",
     "output_type": "stream",
     "text": [
      "0 1 10\n",
      "1 2 20\n",
      "2 3 30\n"
     ]
    }
   ],
   "source": [
    "for loop_cnt, (v1,v2) in enumerate([ [1,10] ,  [2,20] ,  [3,30]]):\n",
    "    print(loop_cnt, v1, v2)"
   ]
  },
  {
   "cell_type": "markdown",
   "id": "781ec599-cf0d-4b0a-b4c6-05711f717192",
   "metadata": {},
   "source": [
    "## KFold()\n",
    "* 회귀모델"
   ]
  },
  {
   "cell_type": "code",
   "execution_count": 11,
   "id": "e4a7c7b7-23b5-4087-9468-121ca99052d5",
   "metadata": {},
   "outputs": [],
   "source": [
    "from sklearn.model_selection import train_test_split, KFold"
   ]
  },
  {
   "cell_type": "markdown",
   "id": "2491f8f0-210c-4596-9be8-666dd00af725",
   "metadata": {},
   "source": [
    "```python\n",
    "class sklearn.model_selection.KFold(n_splits=5, *, shuffle=False, random_state=None)\n",
    "```"
   ]
  },
  {
   "cell_type": "code",
   "execution_count": 12,
   "id": "da4bb3e4-cb15-4291-8989-0c31abc613d5",
   "metadata": {},
   "outputs": [
    {
     "data": {
      "text/plain": [
       "array([0, 0, 0, 0, 0, 0, 0, 0, 0, 0, 0, 0, 0, 0, 0, 0, 0, 0, 0, 0, 0, 0,\n",
       "       0, 0, 0, 0, 0, 0, 0, 0, 0, 0, 0, 0, 0, 0, 0, 0, 0, 0, 0, 0, 0, 0,\n",
       "       0, 0, 0, 0, 0, 0, 1, 1, 1, 1, 1, 1, 1, 1, 1, 1, 1, 1, 1, 1, 1, 1,\n",
       "       1, 1, 1, 1, 1, 1, 1, 1, 1, 1, 1, 1, 1, 1, 1, 1, 1, 1, 1, 1, 1, 1,\n",
       "       1, 1, 1, 1, 1, 1, 1, 1, 1, 1, 1, 1, 2, 2, 2, 2, 2, 2, 2, 2, 2, 2,\n",
       "       2, 2, 2, 2, 2, 2, 2, 2, 2, 2, 2, 2, 2, 2, 2, 2, 2, 2, 2, 2, 2, 2,\n",
       "       2, 2, 2, 2, 2, 2, 2, 2, 2, 2, 2, 2, 2, 2, 2, 2, 2, 2])"
      ]
     },
     "execution_count": 12,
     "metadata": {},
     "output_type": "execute_result"
    }
   ],
   "source": [
    "df['target'].values"
   ]
  },
  {
   "cell_type": "code",
   "execution_count": 13,
   "id": "feaa4ee8-d67d-4290-ab7f-3545d87f140a",
   "metadata": {},
   "outputs": [
    {
     "name": "stdout",
     "output_type": "stream",
     "text": [
      "[0 0 0 0 0 0 0 0 0 0 0 0 0 0 0 0 0 0 0 1 1 1 1 1 1 1 1 1 1 1 1 1 1 1 1 2 2\n",
      " 2 2 2 2 2 2 2 2 2 2 2 2 2]\n",
      "[0 0 0 0 0 0 0 0 0 0 0 0 0 0 0 0 0 0 0 0 0 0 0 0 0 0 0 0 0 0 0 1 1 1 1 1 1\n",
      " 1 1 1 1 1 1 1 1 1 1 1 1 1 1 1 1 1 1 1 1 1 1 1 1 1 1 1 1 2 2 2 2 2 2 2 2 2\n",
      " 2 2 2 2 2 2 2 2 2 2 2 2 2 2 2 2 2 2 2 2 2 2 2 2 2 2]\n",
      "0 (100, 4) (50, 4) (100,) (50,)\n",
      "f1 : 0.9139\n",
      "------------------------------------------------------------------------------------------\n",
      "[0 0 0 0 0 0 0 0 0 0 0 0 0 0 0 0 0 1 1 1 1 1 1 1 1 1 1 1 1 1 1 1 1 1 1 2 2\n",
      " 2 2 2 2 2 2 2 2 2 2 2 2 2]\n",
      "[0 0 0 0 0 0 0 0 0 0 0 0 0 0 0 0 0 0 0 0 0 0 0 0 0 0 0 0 0 0 0 0 0 1 1 1 1\n",
      " 1 1 1 1 1 1 1 1 1 1 1 1 1 1 1 1 1 1 1 1 1 1 1 1 1 1 1 1 2 2 2 2 2 2 2 2 2\n",
      " 2 2 2 2 2 2 2 2 2 2 2 2 2 2 2 2 2 2 2 2 2 2 2 2 2 2]\n",
      "1 (100, 4) (50, 4) (100,) (50,)\n",
      "f1 : 0.9797\n",
      "------------------------------------------------------------------------------------------\n",
      "[0 0 0 0 0 0 0 0 0 0 0 0 0 0 1 1 1 1 1 1 1 1 1 1 1 1 1 1 1 1 2 2 2 2 2 2 2\n",
      " 2 2 2 2 2 2 2 2 2 2 2 2 2]\n",
      "[0 0 0 0 0 0 0 0 0 0 0 0 0 0 0 0 0 0 0 0 0 0 0 0 0 0 0 0 0 0 0 0 0 0 0 0 1\n",
      " 1 1 1 1 1 1 1 1 1 1 1 1 1 1 1 1 1 1 1 1 1 1 1 1 1 1 1 1 1 1 1 1 1 2 2 2 2\n",
      " 2 2 2 2 2 2 2 2 2 2 2 2 2 2 2 2 2 2 2 2 2 2 2 2 2 2]\n",
      "2 (100, 4) (50, 4) (100,) (50,)\n",
      "f1 : 0.9444\n",
      "------------------------------------------------------------------------------------------\n",
      "평균점수 : 0.9460\n"
     ]
    }
   ],
   "source": [
    "y = df['target']\n",
    "X = df.drop('target', axis=1)\n",
    "\n",
    "score_list = []\n",
    "kfold = KFold(n_splits=3, shuffle=True, random_state=1212)\n",
    "    \n",
    "for i, (train_idx, test_idx) in enumerate(kfold.split(X)) :\n",
    "    # print(i, train_idx, test_idx)\n",
    "    print(df.loc[test_idx, \"target\"].values)\n",
    "    print(df.loc[train_idx, \"target\"].values)\n",
    "    \n",
    "    # print(X.loc[train_idx].values)\n",
    "    # print(X.loc[test_idx].values)\n",
    "    # print(y.loc[train_idx].values)\n",
    "    # print(y.loc[test_idx].values)\n",
    "    # X_train, X_test, y_train, y_test = train_test_split(X, y, test_size=0.2, random_state=11)\n",
    "    X_train, X_test,  y_train, y_test = X.loc[train_idx], X.loc[test_idx], y.loc[train_idx], y.loc[test_idx]\n",
    "    print(i, X_train.shape, X_test.shape, y_train.shape, y_test.shape)\n",
    "    \n",
    "    model = DecisionTreeClassifier(random_state=111, min_samples_split=2)\n",
    "    model.fit(X_train, y_train)\n",
    "    pred = model.predict( X_test)  \n",
    "    f1   = f1_score(y_test, pred, average=\"macro\")\n",
    "    print(f\"f1 : {f1:.4f}\")\n",
    "\n",
    "    score_list.append(f1)\n",
    "    print(\"---\"*30)\n",
    "\n",
    "print(f\"평균점수 : {np.mean(score_list):.4f}\")"
   ]
  },
  {
   "cell_type": "markdown",
   "id": "802b4ff4-5380-4415-b663-566c70ce6761",
   "metadata": {},
   "source": [
    "## StratifiedKFold()\n",
    "* 분류모델\n",
    "* 학습 시 target 비율에 맞게 데이터를 각 fold에 넣어준다"
   ]
  },
  {
   "cell_type": "markdown",
   "id": "068f1931-3a39-48a9-b04d-2be6468f65bc",
   "metadata": {},
   "source": [
    "```python\n",
    "class sklearn.model_selection.StratifiedKFold(n_splits=5, *, shuffle=False, random_state=None\n",
    "```"
   ]
  },
  {
   "cell_type": "code",
   "execution_count": 14,
   "id": "d37782dd-e355-48cd-9fe7-8c79eeec9afa",
   "metadata": {},
   "outputs": [],
   "source": [
    "from sklearn.model_selection import train_test_split, KFold, StratifiedKFold"
   ]
  },
  {
   "cell_type": "code",
   "execution_count": 15,
   "id": "b234afd0-ea74-425c-8a7f-aba967260cd9",
   "metadata": {},
   "outputs": [
    {
     "name": "stdout",
     "output_type": "stream",
     "text": [
      "0 2    34\n",
      "0    33\n",
      "1    33\n",
      "Name: target, dtype: int64\n",
      "0 (100, 4) (50, 4) (100,) (50,)\n",
      "f1 : 0.9596\n",
      "------------------------------------------------------------------------------------------\n",
      "1 1    34\n",
      "0    33\n",
      "2    33\n",
      "Name: target, dtype: int64\n",
      "1 (100, 4) (50, 4) (100,) (50,)\n",
      "f1 : 0.9385\n",
      "------------------------------------------------------------------------------------------\n",
      "2 0    34\n",
      "1    33\n",
      "2    33\n",
      "Name: target, dtype: int64\n",
      "2 (100, 4) (50, 4) (100,) (50,)\n",
      "f1 : 0.9216\n",
      "------------------------------------------------------------------------------------------\n",
      "평균점수 : 0.9399\n"
     ]
    }
   ],
   "source": [
    "y = df['target']\n",
    "X = df.drop('target', axis=1)\n",
    "\n",
    "score_list = []\n",
    "# kfold = KFold(n_splits=10, shuffle=True, random_state=1212)    \n",
    "# for i, (train_idx, test_idx) in enumerate(kfold.split(X)) :\n",
    "\n",
    "skfold = StratifiedKFold(n_splits=3, shuffle=True, random_state=1212)  \n",
    "#---------------------------------------------------------------\n",
    "# y를 넣어야 비율에 맞게 넣을 수 있다\n",
    "#---------------------------------------------------------------\n",
    "for i, (train_idx, test_idx) in enumerate(skfold.split(X, y)) :  \n",
    "    # print(i, train_idx, test_idx)\n",
    "    # print(df.loc[test_idx, \"target\"].values)\n",
    "    # print(df.loc[train_idx, \"target\"].values)\n",
    "    print(i, y[train_idx].value_counts())\n",
    "    \n",
    "    # print(X.loc[train_idx].values)\n",
    "    # print(X.loc[test_idx].values)\n",
    "    # print(y.loc[train_idx].values)\n",
    "    # print(y.loc[test_idx].values)\n",
    "    # X_train, X_test, y_train, y_test = train_test_split(X, y, test_size=0.2, random_state=11)\n",
    "    X_train, X_test,  y_train, y_test = X.loc[train_idx], X.loc[test_idx], y.loc[train_idx], y.loc[test_idx]\n",
    "    print(i, X_train.shape, X_test.shape, y_train.shape, y_test.shape)\n",
    "    \n",
    "    model = DecisionTreeClassifier(random_state=111, min_samples_split=2)\n",
    "    model.fit(X_train, y_train)\n",
    "    pred = model.predict( X_test)  \n",
    "    f1   = f1_score(y_test, pred, average=\"macro\")\n",
    "    print(f\"f1 : {f1:.4f}\")\n",
    "\n",
    "    score_list.append(f1)\n",
    "    print(\"---\"*30)\n",
    "\n",
    "print(f\"평균점수 : {np.mean(score_list):.4f}\")"
   ]
  },
  {
   "cell_type": "markdown",
   "id": "ba0bd3a1-5601-4675-bb55-630de227c9de",
   "metadata": {},
   "source": [
    "### train_test_split(stratify=타켓피쳐명)\n",
    "* stratify 속성으로 fold에 골고루 넣어준다"
   ]
  },
  {
   "cell_type": "markdown",
   "id": "f193922f-51b0-431b-97b5-8f6808772ef3",
   "metadata": {},
   "source": [
    "```python\n",
    "sklearn.model_selection.train_test_split(*arrays, test_size=None, train_size=None, random_state=None, shuffle=True, stratify=None)\n",
    "```"
   ]
  },
  {
   "cell_type": "code",
   "execution_count": 16,
   "id": "918fe851-103c-4e46-925b-c8e6f63bf32a",
   "metadata": {},
   "outputs": [
    {
     "name": "stdout",
     "output_type": "stream",
     "text": [
      "(100, 4) (50, 4) (100,) (50,)\n",
      "1    36\n",
      "0    34\n",
      "2    30\n",
      "Name: target, dtype: int64\n"
     ]
    }
   ],
   "source": [
    "y = df['target']\n",
    "X = df.drop('target', axis=1)\n",
    "X_train, X_test, y_train, y_test = train_test_split(X, y , test_size=0.33)\n",
    "print(X_train.shape, X_test.shape, y_train.shape, y_test.shape)\n",
    "print(y_train.value_counts())"
   ]
  },
  {
   "cell_type": "code",
   "execution_count": 17,
   "id": "ee1d3092-f7c3-4a02-b15f-0dcb5166e833",
   "metadata": {},
   "outputs": [
    {
     "name": "stdout",
     "output_type": "stream",
     "text": [
      "(100, 4) (50, 4) (100,) (50,)\n",
      "1    34\n",
      "2    33\n",
      "0    33\n",
      "Name: target, dtype: int64\n"
     ]
    }
   ],
   "source": [
    "y = df['target']\n",
    "X = df.drop('target', axis=1)\n",
    "X_train, X_test, y_train, y_test = train_test_split(X, y , test_size=0.33, stratify=y)\n",
    "print(X_train.shape, X_test.shape, y_train.shape, y_test.shape)\n",
    "print(y_train.value_counts())"
   ]
  },
  {
   "cell_type": "markdown",
   "id": "508452a2-8641-4a67-9ad5-2359b31d1e8d",
   "metadata": {},
   "source": [
    "## cross_val_score()"
   ]
  },
  {
   "cell_type": "markdown",
   "id": "4b088996-4114-4ca3-abe8-ac0c29fe1ea3",
   "metadata": {},
   "source": [
    "```python\n",
    "sklearn.model_selection.cross_val_score(estimator, X, y=None, *, groups=None, scoring=None, cv=None, n_jobs=None, verbose=0, fit_params=None, pre_dispatch='2*n_jobs', error_score=nan)\n",
    "```"
   ]
  },
  {
   "cell_type": "code",
   "execution_count": 18,
   "id": "11f68bc3-fac3-4e73-b2ef-ebeb44df140a",
   "metadata": {},
   "outputs": [],
   "source": [
    "from sklearn.model_selection import cross_val_score"
   ]
  },
  {
   "cell_type": "code",
   "execution_count": 19,
   "id": "3bfc3b63-9e45-45b0-9344-b5dfc553fb38",
   "metadata": {},
   "outputs": [
    {
     "name": "stdout",
     "output_type": "stream",
     "text": [
      "[0.95955882 0.93849021 0.92156863]\n",
      "평균점수 : 0.9399\n"
     ]
    }
   ],
   "source": [
    "model = DecisionTreeClassifier(random_state=111, min_samples_split=2)\n",
    "y = df['target']\n",
    "X = df.drop('target', axis=1)\n",
    "\n",
    "\n",
    "# -------------------------------------\n",
    "# cv : (Stratified)KFold\n",
    "# -------------------------------------\n",
    "skfold = StratifiedKFold(n_splits=3, shuffle=True, random_state=1212)  # 분류\n",
    "kfold  = KFold(n_splits=3, shuffle=True, random_state=1212)            # 회귀\n",
    "\n",
    "score_arr = cross_val_score(model, X, y, scoring=\"f1_macro\", cv=skfold) \n",
    "print(score_arr)\n",
    "\n",
    "# print(f\"평균점수 : {np.mean(score_list):.4f}\")\n",
    "print(f\"평균점수 : {score_arr.mean():.4f}\")\n"
   ]
  },
  {
   "cell_type": "markdown",
   "id": "b32c030d-1ac2-4745-a4a6-842b508a0826",
   "metadata": {},
   "source": [
    "<pre>\n",
    "skold  0.9399\n",
    "kfold  0.9460"
   ]
  },
  {
   "cell_type": "markdown",
   "id": "6481ca9f-55d4-4d86-b4ea-af5302a083dd",
   "metadata": {},
   "source": [
    "## cross_validate()\n",
    "* cross_val_score() : 점수를 array로 준다\n",
    "* cross_validate() : dict를 준다(점수, 실행시간, 기타..)"
   ]
  },
  {
   "cell_type": "markdown",
   "id": "c287242b-3d84-4151-90f0-3d6f8a3d1001",
   "metadata": {},
   "source": [
    "```python\n",
    "sklearn.model_selection.cross_validate(estimator, X, y=None, *, groups=None, scoring=None, cv=None, n_jobs=None, verbose=0, fit_params=None, pre_dispatch='2*n_jobs', return_train_score=False, return_estimator=False, return_indices=False, error_score=nan)\n",
    "```"
   ]
  },
  {
   "cell_type": "code",
   "execution_count": 20,
   "id": "867da2e4-5f45-464f-8287-afbc208e3279",
   "metadata": {},
   "outputs": [],
   "source": [
    "from sklearn.model_selection import cross_validate\n"
   ]
  },
  {
   "cell_type": "code",
   "execution_count": 25,
   "id": "1370a854-f84a-48f8-9382-f0bc6b2d17fa",
   "metadata": {
    "scrolled": true
   },
   "outputs": [
    {
     "name": "stdout",
     "output_type": "stream",
     "text": [
      "{'fit_time': array([0.00299096, 0.00199461, 0.00299239]), 'score_time': array([0.00299191, 0.00498676, 0.00299215]), 'test_score': array([0.95955882, 0.93849021, 0.92156863])}\n",
      "평균점수 : 0.9399\n"
     ]
    },
    {
     "data": {
      "text/html": [
       "<div>\n",
       "<style scoped>\n",
       "    .dataframe tbody tr th:only-of-type {\n",
       "        vertical-align: middle;\n",
       "    }\n",
       "\n",
       "    .dataframe tbody tr th {\n",
       "        vertical-align: top;\n",
       "    }\n",
       "\n",
       "    .dataframe thead th {\n",
       "        text-align: right;\n",
       "    }\n",
       "</style>\n",
       "<table border=\"1\" class=\"dataframe\">\n",
       "  <thead>\n",
       "    <tr style=\"text-align: right;\">\n",
       "      <th></th>\n",
       "      <th>fit_time</th>\n",
       "      <th>score_time</th>\n",
       "      <th>test_score</th>\n",
       "    </tr>\n",
       "  </thead>\n",
       "  <tbody>\n",
       "    <tr>\n",
       "      <th>0</th>\n",
       "      <td>0.002991</td>\n",
       "      <td>0.002992</td>\n",
       "      <td>0.959559</td>\n",
       "    </tr>\n",
       "    <tr>\n",
       "      <th>1</th>\n",
       "      <td>0.001995</td>\n",
       "      <td>0.004987</td>\n",
       "      <td>0.938490</td>\n",
       "    </tr>\n",
       "    <tr>\n",
       "      <th>2</th>\n",
       "      <td>0.002992</td>\n",
       "      <td>0.002992</td>\n",
       "      <td>0.921569</td>\n",
       "    </tr>\n",
       "  </tbody>\n",
       "</table>\n",
       "</div>"
      ],
      "text/plain": [
       "   fit_time  score_time  test_score\n",
       "0  0.002991    0.002992    0.959559\n",
       "1  0.001995    0.004987    0.938490\n",
       "2  0.002992    0.002992    0.921569"
      ]
     },
     "execution_count": 25,
     "metadata": {},
     "output_type": "execute_result"
    }
   ],
   "source": [
    "model = DecisionTreeClassifier(random_state=111, min_samples_split=2)\n",
    "y = df['target']\n",
    "X = df.drop('target', axis=1)\n",
    "\n",
    "\n",
    "# -------------------------------------\n",
    "# cv : (Stratified)KFold\n",
    "# -------------------------------------\n",
    "skfold = StratifiedKFold(n_splits=3, shuffle=True, random_state=1212)  # 분류\n",
    "kfold  = KFold(n_splits=3, shuffle=True, random_state=1212)            # 회귀\n",
    "\n",
    "# score_arr = cross_val_score(model, X, y, scoring=\"f1_macro\", cv=skfold) \n",
    "score_dict = cross_validate(model, X, y, scoring=\"f1_macro\", cv=skfold) \n",
    "print(score_dict)\n",
    "\n",
    "print(f\"평균점수 : {score_dict['test_score'].mean():.4f}\")\n",
    "# print(f\"평균점수 : {np.mean(score_list):.4f}\")\n",
    "# print(f\"평균점수 : {score_arr.mean():.4f}\")\n",
    "\n",
    "pd.DataFrame(score_dict).head() "
   ]
  },
  {
   "cell_type": "markdown",
   "id": "bb025a1c-dff6-4e3a-a5aa-0751e482e99c",
   "metadata": {},
   "source": [
    "# GridSearchCV\n",
    "* 교차검증(corss-validation) + 튜닝(hyper parameter)"
   ]
  },
  {
   "cell_type": "markdown",
   "id": "a3633699-32f9-4eb4-9805-84c6690ba5db",
   "metadata": {},
   "source": [
    "``` python\n",
    "class sklearn.model_selection.GridSearchCV(estimator, param_grid, *, scoring=None, n_jobs=None, refit=True, cv=None, verbose=0, pre_dispatch='2*n_jobs', error_score=nan, return_train_score=False)\n",
    "                                           ```"
   ]
  }
 ],
 "metadata": {
  "kernelspec": {
   "display_name": "Python 3 (ipykernel)",
   "language": "python",
   "name": "python3"
  },
  "language_info": {
   "codemirror_mode": {
    "name": "ipython",
    "version": 3
   },
   "file_extension": ".py",
   "mimetype": "text/x-python",
   "name": "python",
   "nbconvert_exporter": "python",
   "pygments_lexer": "ipython3",
   "version": "3.8.8"
  }
 },
 "nbformat": 4,
 "nbformat_minor": 5
}
