{
 "cells": [
  {
   "cell_type": "markdown",
   "id": "08da2020-8fde-4ef2-84e8-fe8bea540733",
   "metadata": {},
   "source": [
    "<font size=6><b> lec03.머신러닝_전처리 : 스케일링(Scaling)"
   ]
  },
  {
   "cell_type": "markdown",
   "id": "7edb31a1-0891-410b-be0f-d1de20c70f0b",
   "metadata": {},
   "source": [
    "### 스케일링(Scaling)\n",
    "* 데이터의 값이 너무 크거나 작아 변수의 영향이 제대로 반영되지 않을 경우, 알고리즘의 계산 과정에서 0으로 수렴하거나 값이 너무 커져버리는 경우 값의 수치를 변환해 사용\n",
    "* StandardScaler()\n",
    "* MinMaxScaler()\n",
    "* RobustScaler()"
   ]
  },
  {
   "cell_type": "code",
   "execution_count": 1,
   "id": "4e4612b6-b8b2-4eb0-a593-555135ab1143",
   "metadata": {},
   "outputs": [],
   "source": [
    "from sklearn.preprocessing import MinMaxScaler, RobustScaler, StandardScaler\n",
    "import pandas as pd\n",
    "import numpy as np\n",
    "import seaborn as sns\n",
    "import matplotlib.pyplot as plt"
   ]
  },
  {
   "cell_type": "markdown",
   "id": "3c869f8c-5094-4dec-a349-835fd0c5e0ce",
   "metadata": {},
   "source": [
    "# 스케일링"
   ]
  },
  {
   "cell_type": "markdown",
   "id": "6ecdc497-b803-4b63-9881-058c0adb4bd4",
   "metadata": {},
   "source": [
    "## StandardScaler\n",
    "* [Z-score]\n",
    "* 데이터를 통계적으로 표준정규분포화  (평균= 0, 표준편차= 1)"
   ]
  },
  {
   "cell_type": "markdown",
   "id": "7885347e-764a-471a-bbe0-9a86e693db6e",
   "metadata": {},
   "source": [
    "<img src=\"https://blog.kakaocdn.net/dn/bH267u/btqHem912RO/Zn8b42Him2KZtC0j01D7F0/img.gif\" width=150>"
   ]
  },
  {
   "cell_type": "code",
   "execution_count": 2,
   "id": "db22e71e-4b9a-4786-a8a3-107d52dc2efb",
   "metadata": {},
   "outputs": [
    {
     "data": {
      "text/html": [
       "<div>\n",
       "<style scoped>\n",
       "    .dataframe tbody tr th:only-of-type {\n",
       "        vertical-align: middle;\n",
       "    }\n",
       "\n",
       "    .dataframe tbody tr th {\n",
       "        vertical-align: top;\n",
       "    }\n",
       "\n",
       "    .dataframe thead th {\n",
       "        text-align: right;\n",
       "    }\n",
       "</style>\n",
       "<table border=\"1\" class=\"dataframe\">\n",
       "  <thead>\n",
       "    <tr style=\"text-align: right;\">\n",
       "      <th></th>\n",
       "      <th>score</th>\n",
       "      <th>le_score</th>\n",
       "    </tr>\n",
       "  </thead>\n",
       "  <tbody>\n",
       "    <tr>\n",
       "      <th>0</th>\n",
       "      <td>A</td>\n",
       "      <td>0</td>\n",
       "    </tr>\n",
       "    <tr>\n",
       "      <th>1</th>\n",
       "      <td>B</td>\n",
       "      <td>1</td>\n",
       "    </tr>\n",
       "    <tr>\n",
       "      <th>2</th>\n",
       "      <td>B</td>\n",
       "      <td>1</td>\n",
       "    </tr>\n",
       "    <tr>\n",
       "      <th>3</th>\n",
       "      <td>A</td>\n",
       "      <td>0</td>\n",
       "    </tr>\n",
       "    <tr>\n",
       "      <th>4</th>\n",
       "      <td>C</td>\n",
       "      <td>2</td>\n",
       "    </tr>\n",
       "  </tbody>\n",
       "</table>\n",
       "</div>"
      ],
      "text/plain": [
       "  score  le_score\n",
       "0     A         0\n",
       "1     B         1\n",
       "2     B         1\n",
       "3     A         0\n",
       "4     C         2"
      ]
     },
     "execution_count": 2,
     "metadata": {},
     "output_type": "execute_result"
    }
   ],
   "source": [
    "df = pd.DataFrame({\"score\": [\"A\",\"B\",\"B\",\"A\",\"C\"], \"le_score\":[0,1,1,0,2]})\n",
    "df.head()"
   ]
  },
  {
   "cell_type": "code",
   "execution_count": 3,
   "id": "82183804-eb97-4c4b-a4cc-14de60f66f20",
   "metadata": {},
   "outputs": [
    {
     "data": {
      "text/html": [
       "<div>\n",
       "<style scoped>\n",
       "    .dataframe tbody tr th:only-of-type {\n",
       "        vertical-align: middle;\n",
       "    }\n",
       "\n",
       "    .dataframe tbody tr th {\n",
       "        vertical-align: top;\n",
       "    }\n",
       "\n",
       "    .dataframe thead th {\n",
       "        text-align: right;\n",
       "    }\n",
       "</style>\n",
       "<table border=\"1\" class=\"dataframe\">\n",
       "  <thead>\n",
       "    <tr style=\"text-align: right;\">\n",
       "      <th></th>\n",
       "      <th>le_score</th>\n",
       "    </tr>\n",
       "  </thead>\n",
       "  <tbody>\n",
       "    <tr>\n",
       "      <th>count</th>\n",
       "      <td>5.00000</td>\n",
       "    </tr>\n",
       "    <tr>\n",
       "      <th>mean</th>\n",
       "      <td>0.80000</td>\n",
       "    </tr>\n",
       "    <tr>\n",
       "      <th>std</th>\n",
       "      <td>0.83666</td>\n",
       "    </tr>\n",
       "    <tr>\n",
       "      <th>min</th>\n",
       "      <td>0.00000</td>\n",
       "    </tr>\n",
       "    <tr>\n",
       "      <th>25%</th>\n",
       "      <td>0.00000</td>\n",
       "    </tr>\n",
       "    <tr>\n",
       "      <th>50%</th>\n",
       "      <td>1.00000</td>\n",
       "    </tr>\n",
       "    <tr>\n",
       "      <th>75%</th>\n",
       "      <td>1.00000</td>\n",
       "    </tr>\n",
       "    <tr>\n",
       "      <th>max</th>\n",
       "      <td>2.00000</td>\n",
       "    </tr>\n",
       "  </tbody>\n",
       "</table>\n",
       "</div>"
      ],
      "text/plain": [
       "       le_score\n",
       "count   5.00000\n",
       "mean    0.80000\n",
       "std     0.83666\n",
       "min     0.00000\n",
       "25%     0.00000\n",
       "50%     1.00000\n",
       "75%     1.00000\n",
       "max     2.00000"
      ]
     },
     "execution_count": 3,
     "metadata": {},
     "output_type": "execute_result"
    }
   ],
   "source": [
    "df.describe()"
   ]
  },
  {
   "cell_type": "code",
   "execution_count": 4,
   "id": "e2ce1a7f-5aac-4375-8dab-9f5d269020ca",
   "metadata": {},
   "outputs": [
    {
     "data": {
      "text/plain": [
       "(0.8, 0.7483314773547883)"
      ]
     },
     "execution_count": 4,
     "metadata": {},
     "output_type": "execute_result"
    }
   ],
   "source": [
    "np.mean([0,1,1,0,2]), np.std([0,1,1,0,2])"
   ]
  },
  {
   "cell_type": "code",
   "execution_count": 5,
   "id": "57c57a40-4d5a-4cbb-9a52-f5367fb8dde9",
   "metadata": {},
   "outputs": [
    {
     "data": {
      "text/plain": [
       "1.6035674514745462"
      ]
     },
     "execution_count": 5,
     "metadata": {},
     "output_type": "execute_result"
    }
   ],
   "source": [
    "vmean = np.mean([0,1,1,0,2])\n",
    "vstd = np.std([0,1,1,0,2])\n",
    "(2 - vmean) / vstd"
   ]
  },
  {
   "cell_type": "code",
   "execution_count": 6,
   "id": "2e6ee411-f3ab-4b6b-be34-50cca3cefef4",
   "metadata": {},
   "outputs": [],
   "source": [
    "ss = StandardScaler()"
   ]
  },
  {
   "cell_type": "code",
   "execution_count": 7,
   "id": "6131db6c-ba85-4418-b3b4-75e84f7d87bb",
   "metadata": {},
   "outputs": [
    {
     "data": {
      "text/plain": [
       "0    0\n",
       "1    1\n",
       "2    1\n",
       "3    0\n",
       "4    2\n",
       "Name: le_score, dtype: int64"
      ]
     },
     "execution_count": 7,
     "metadata": {},
     "output_type": "execute_result"
    }
   ],
   "source": [
    "df['le_score']"
   ]
  },
  {
   "cell_type": "code",
   "execution_count": 8,
   "id": "1be713ba-aacf-4fea-945c-ef30aeb6f85b",
   "metadata": {},
   "outputs": [
    {
     "data": {
      "text/plain": [
       "array([[0],\n",
       "       [1],\n",
       "       [1],\n",
       "       [0],\n",
       "       [2]], dtype=int64)"
      ]
     },
     "execution_count": 8,
     "metadata": {},
     "output_type": "execute_result"
    }
   ],
   "source": [
    "df['le_score'].values.reshape(-1,1)"
   ]
  },
  {
   "cell_type": "code",
   "execution_count": 9,
   "id": "ac0f9cba-0fb5-4726-8dde-ba981de39b2e",
   "metadata": {},
   "outputs": [
    {
     "data": {
      "text/plain": [
       "array([[-1.06904497],\n",
       "       [ 0.26726124],\n",
       "       [ 0.26726124],\n",
       "       [-1.06904497],\n",
       "       [ 1.60356745]])"
      ]
     },
     "execution_count": 9,
     "metadata": {},
     "output_type": "execute_result"
    }
   ],
   "source": [
    "ss = StandardScaler()\n",
    "ss.fit(df['le_score'].values.reshape(-1,1))  #----1D X  ,  2D O\n",
    "ss_ref = ss.transform(df['le_score'].values.reshape(-1,1))\n",
    "ss_ref"
   ]
  },
  {
   "cell_type": "code",
   "execution_count": 10,
   "id": "01787076-5378-4ba3-8d2f-09b8a56431cb",
   "metadata": {},
   "outputs": [
    {
     "data": {
      "text/html": [
       "<div>\n",
       "<style scoped>\n",
       "    .dataframe tbody tr th:only-of-type {\n",
       "        vertical-align: middle;\n",
       "    }\n",
       "\n",
       "    .dataframe tbody tr th {\n",
       "        vertical-align: top;\n",
       "    }\n",
       "\n",
       "    .dataframe thead th {\n",
       "        text-align: right;\n",
       "    }\n",
       "</style>\n",
       "<table border=\"1\" class=\"dataframe\">\n",
       "  <thead>\n",
       "    <tr style=\"text-align: right;\">\n",
       "      <th></th>\n",
       "      <th>score</th>\n",
       "      <th>le_score</th>\n",
       "      <th>ss_score</th>\n",
       "    </tr>\n",
       "  </thead>\n",
       "  <tbody>\n",
       "    <tr>\n",
       "      <th>0</th>\n",
       "      <td>A</td>\n",
       "      <td>0</td>\n",
       "      <td>-1.069045</td>\n",
       "    </tr>\n",
       "    <tr>\n",
       "      <th>1</th>\n",
       "      <td>B</td>\n",
       "      <td>1</td>\n",
       "      <td>0.267261</td>\n",
       "    </tr>\n",
       "    <tr>\n",
       "      <th>2</th>\n",
       "      <td>B</td>\n",
       "      <td>1</td>\n",
       "      <td>0.267261</td>\n",
       "    </tr>\n",
       "    <tr>\n",
       "      <th>3</th>\n",
       "      <td>A</td>\n",
       "      <td>0</td>\n",
       "      <td>-1.069045</td>\n",
       "    </tr>\n",
       "    <tr>\n",
       "      <th>4</th>\n",
       "      <td>C</td>\n",
       "      <td>2</td>\n",
       "      <td>1.603567</td>\n",
       "    </tr>\n",
       "  </tbody>\n",
       "</table>\n",
       "</div>"
      ],
      "text/plain": [
       "  score  le_score  ss_score\n",
       "0     A         0 -1.069045\n",
       "1     B         1  0.267261\n",
       "2     B         1  0.267261\n",
       "3     A         0 -1.069045\n",
       "4     C         2  1.603567"
      ]
     },
     "execution_count": 10,
     "metadata": {},
     "output_type": "execute_result"
    }
   ],
   "source": [
    "df['ss_score'] = ss_ref\n",
    "df.head()"
   ]
  },
  {
   "cell_type": "markdown",
   "id": "425db328-4247-4803-b908-8cef1f5fcd13",
   "metadata": {},
   "source": [
    "* 평균이 0, 표준편차가 1인 정규분포에 가까운 커널 밀도 그래프"
   ]
  },
  {
   "cell_type": "code",
   "execution_count": 11,
   "id": "8895870f-320f-4d63-b584-6d08fadab487",
   "metadata": {},
   "outputs": [
    {
     "name": "stderr",
     "output_type": "stream",
     "text": [
      "c:\\ai\\pythonproject7\\venv\\lib\\site-packages\\seaborn\\distributions.py:2619: FutureWarning: `distplot` is a deprecated function and will be removed in a future version. Please adapt your code to use either `displot` (a figure-level function with similar flexibility) or `kdeplot` (an axes-level function for kernel density plots).\n",
      "  warnings.warn(msg, FutureWarning)\n"
     ]
    },
    {
     "data": {
      "text/plain": [
       "<AxesSubplot:xlabel='ss_score', ylabel='Density'>"
      ]
     },
     "execution_count": 11,
     "metadata": {},
     "output_type": "execute_result"
    },
    {
     "data": {
      "image/png": "[encoded data removed]",
      "text/plain": [
       "<Figure size 432x288 with 1 Axes>"
      ]
     },
     "metadata": {
      "needs_background": "light"
     },
     "output_type": "display_data"
    }
   ],
   "source": [
    "sns.distplot(df['ss_score'], hist=False)"
   ]
  },
  {
   "cell_type": "markdown",
   "id": "04ccad1a-bba5-4d03-97ee-be9e45d86b48",
   "metadata": {},
   "source": [
    "## Min-Max Scaling\n",
    "* 변수의 크기가 다 상대적이므로 값이 너무 작거나, 큰 경우 해당 변수가 Target에 미치는 영향력이 제대로 표현되지 않을 수 있음\n",
    "* 값의 범위를 0이상 1이하로 변경"
   ]
  },
  {
   "cell_type": "markdown",
   "id": "3adcf5fe-1af5-43d8-83b2-d9497e7d410c",
   "metadata": {},
   "source": [
    "<img src=\"https://img1.daumcdn.net/thumb/R1280x0/?scode=mtistory2&fname=https%3A%2F%2Fblog.kakaocdn.net%2Fdn%2Fbbwd6y%2FbtqHhFhqsm2%2FRVhEkC1KKzUViTGJWYMKlK%2Fimg.png\" width=150>"
   ]
  },
  {
   "cell_type": "code",
   "execution_count": 12,
   "id": "2b8c8f58-262c-480c-a7f9-80ef4277d82b",
   "metadata": {},
   "outputs": [
    {
     "data": {
      "text/html": [
       "<div>\n",
       "<style scoped>\n",
       "    .dataframe tbody tr th:only-of-type {\n",
       "        vertical-align: middle;\n",
       "    }\n",
       "\n",
       "    .dataframe tbody tr th {\n",
       "        vertical-align: top;\n",
       "    }\n",
       "\n",
       "    .dataframe thead th {\n",
       "        text-align: right;\n",
       "    }\n",
       "</style>\n",
       "<table border=\"1\" class=\"dataframe\">\n",
       "  <thead>\n",
       "    <tr style=\"text-align: right;\">\n",
       "      <th></th>\n",
       "      <th>score</th>\n",
       "      <th>le_score</th>\n",
       "    </tr>\n",
       "  </thead>\n",
       "  <tbody>\n",
       "    <tr>\n",
       "      <th>0</th>\n",
       "      <td>A</td>\n",
       "      <td>0</td>\n",
       "    </tr>\n",
       "    <tr>\n",
       "      <th>1</th>\n",
       "      <td>B</td>\n",
       "      <td>1</td>\n",
       "    </tr>\n",
       "    <tr>\n",
       "      <th>2</th>\n",
       "      <td>B</td>\n",
       "      <td>1</td>\n",
       "    </tr>\n",
       "    <tr>\n",
       "      <th>3</th>\n",
       "      <td>A</td>\n",
       "      <td>0</td>\n",
       "    </tr>\n",
       "    <tr>\n",
       "      <th>4</th>\n",
       "      <td>C</td>\n",
       "      <td>2</td>\n",
       "    </tr>\n",
       "  </tbody>\n",
       "</table>\n",
       "</div>"
      ],
      "text/plain": [
       "  score  le_score\n",
       "0     A         0\n",
       "1     B         1\n",
       "2     B         1\n",
       "3     A         0\n",
       "4     C         2"
      ]
     },
     "execution_count": 12,
     "metadata": {},
     "output_type": "execute_result"
    }
   ],
   "source": [
    "df = pd.DataFrame({\"score\": [\"A\",\"B\",\"B\",\"A\",\"C\"], \"le_score\":[0,1,1,0,2]})\n",
    "df.head()"
   ]
  },
  {
   "cell_type": "code",
   "execution_count": 13,
   "id": "663825a7-3fa7-4d30-a727-b3b1273bacaf",
   "metadata": {},
   "outputs": [
    {
     "data": {
      "text/plain": [
       "0.5"
      ]
     },
     "execution_count": 13,
     "metadata": {},
     "output_type": "execute_result"
    }
   ],
   "source": [
    "vmin = np.min([0,1,1,0,2])\n",
    "vmax = np.max([0,1,1,0,2])\n",
    "(1-vmin) / (vmax - vmin)"
   ]
  },
  {
   "cell_type": "code",
   "execution_count": 14,
   "id": "2e57e53f-74b2-42c9-9cf9-ea6b7eeeb954",
   "metadata": {},
   "outputs": [
    {
     "data": {
      "text/plain": [
       "array([[0. ],\n",
       "       [0.5],\n",
       "       [0.5],\n",
       "       [0. ],\n",
       "       [1. ]])"
      ]
     },
     "execution_count": 14,
     "metadata": {},
     "output_type": "execute_result"
    }
   ],
   "source": [
    "mm = MinMaxScaler() \n",
    "mm.fit(df['le_score'].values.reshape(-1,1))\n",
    "mm_res = mm.transform(df['le_score'].values.reshape(-1,1))\n",
    "mm_res"
   ]
  },
  {
   "cell_type": "markdown",
   "id": "9f76a977-48d4-46b3-93ca-d4e09bde7932",
   "metadata": {},
   "source": [
    "# for 문 이용"
   ]
  },
  {
   "cell_type": "code",
   "execution_count": 15,
   "id": "a47342cc-c381-4cdc-b254-c68f7649e5ab",
   "metadata": {},
   "outputs": [
    {
     "name": "stdout",
     "output_type": "stream",
     "text": [
      "mm_scaler MinMaxScaler()\n",
      "rb_scaler RobustScaler()\n",
      "ss_scaler StandardScaler()\n"
     ]
    }
   ],
   "source": [
    "scaler_list = [ (\"mm_scaler\",MinMaxScaler()) , (\"rb_scaler\",RobustScaler()), (\"ss_scaler\",StandardScaler()) ]\n",
    "for (nm, obj) in scaler_list:\n",
    "    print(nm, obj)"
   ]
  },
  {
   "cell_type": "code",
   "execution_count": 21,
   "id": "88487d19-8789-4614-b53d-f6307fdf1074",
   "metadata": {},
   "outputs": [
    {
     "data": {
      "text/html": [
       "<div>\n",
       "<style scoped>\n",
       "    .dataframe tbody tr th:only-of-type {\n",
       "        vertical-align: middle;\n",
       "    }\n",
       "\n",
       "    .dataframe tbody tr th {\n",
       "        vertical-align: top;\n",
       "    }\n",
       "\n",
       "    .dataframe thead th {\n",
       "        text-align: right;\n",
       "    }\n",
       "</style>\n",
       "<table border=\"1\" class=\"dataframe\">\n",
       "  <thead>\n",
       "    <tr style=\"text-align: right;\">\n",
       "      <th></th>\n",
       "      <th>score</th>\n",
       "      <th>le_score</th>\n",
       "      <th>mm_scaler</th>\n",
       "      <th>rb_scaler</th>\n",
       "      <th>ss_scaler</th>\n",
       "    </tr>\n",
       "  </thead>\n",
       "  <tbody>\n",
       "    <tr>\n",
       "      <th>0</th>\n",
       "      <td>A</td>\n",
       "      <td>0</td>\n",
       "      <td>0.0</td>\n",
       "      <td>-1.0</td>\n",
       "      <td>-1.069045</td>\n",
       "    </tr>\n",
       "    <tr>\n",
       "      <th>1</th>\n",
       "      <td>B</td>\n",
       "      <td>1</td>\n",
       "      <td>0.5</td>\n",
       "      <td>0.0</td>\n",
       "      <td>0.267261</td>\n",
       "    </tr>\n",
       "    <tr>\n",
       "      <th>2</th>\n",
       "      <td>B</td>\n",
       "      <td>1</td>\n",
       "      <td>0.5</td>\n",
       "      <td>0.0</td>\n",
       "      <td>0.267261</td>\n",
       "    </tr>\n",
       "    <tr>\n",
       "      <th>3</th>\n",
       "      <td>A</td>\n",
       "      <td>0</td>\n",
       "      <td>0.0</td>\n",
       "      <td>-1.0</td>\n",
       "      <td>-1.069045</td>\n",
       "    </tr>\n",
       "    <tr>\n",
       "      <th>4</th>\n",
       "      <td>C</td>\n",
       "      <td>2</td>\n",
       "      <td>1.0</td>\n",
       "      <td>1.0</td>\n",
       "      <td>1.603567</td>\n",
       "    </tr>\n",
       "  </tbody>\n",
       "</table>\n",
       "</div>"
      ],
      "text/plain": [
       "  score  le_score  mm_scaler  rb_scaler  ss_scaler\n",
       "0     A         0        0.0       -1.0  -1.069045\n",
       "1     B         1        0.5        0.0   0.267261\n",
       "2     B         1        0.5        0.0   0.267261\n",
       "3     A         0        0.0       -1.0  -1.069045\n",
       "4     C         2        1.0        1.0   1.603567"
      ]
     },
     "execution_count": 21,
     "metadata": {},
     "output_type": "execute_result"
    }
   ],
   "source": [
    "scaler_list = [ (\"mm_scaler\",MinMaxScaler()) , (\"rb_scaler\",RobustScaler()), (\"ss_scaler\",StandardScaler()) ]\n",
    "for (nm, scaler) in scaler_list:\n",
    "    #       scaler.fit      (df['le_score'].values.reshape(-1,1))\n",
    "    # res = scaler.transform(df['le_score'].values.reshape(-1,1))\n",
    "    res = scaler.fit_transform(df['le_score'].values.reshape(-1,1))  #---Train Test가 합쳐져서 스케일을 각각 안해도 되는 경우\n",
    "    df[nm] = res\n",
    "    # pd.concat([df, res], axis=1)\n",
    "df.head()    "
   ]
  },
  {
   "cell_type": "markdown",
   "id": "ddcdd635-5680-4f01-9ebe-472aa311c398",
   "metadata": {},
   "source": [
    "# <font color=red><b> 주의사항\n",
    "*  범주형(A,B,C --> 1,2,3 ) 데이터는 숫자로 되있는 값일지라도 스케일링 금지\n",
    "* train 에 fit(), transform() , test에 fit(), transform() 절대 금지\n",
    "* test에는 transform()만 주의주의주의주의주의주의주의주의주의주의주의주의"
   ]
  },
  {
   "cell_type": "code",
   "execution_count": 17,
   "id": "3ba58fc9-ff5e-477d-b4c3-630214d6043c",
   "metadata": {},
   "outputs": [
    {
     "data": {
      "text/plain": [
       "(array([[ 0],\n",
       "        [ 1],\n",
       "        [ 2],\n",
       "        [ 3],\n",
       "        [ 4],\n",
       "        [ 5],\n",
       "        [ 6],\n",
       "        [ 7],\n",
       "        [ 8],\n",
       "        [ 9],\n",
       "        [10]]),\n",
       " array([[0],\n",
       "        [1],\n",
       "        [2],\n",
       "        [3],\n",
       "        [4],\n",
       "        [5]]))"
      ]
     },
     "execution_count": 17,
     "metadata": {},
     "output_type": "execute_result"
    }
   ],
   "source": [
    "X_train = list(range(0,11))\n",
    "X_test= list(range(0,6))\n",
    "X_train = np.array(X_train).reshape(-1,1)\n",
    "X_test = np.array(X_test).reshape(-1,1)\n",
    "X_train , X_test"
   ]
  },
  {
   "cell_type": "code",
   "execution_count": 18,
   "id": "8b054733-0b57-4f82-bcb0-a6800878dd46",
   "metadata": {
    "tags": []
   },
   "outputs": [
    {
     "data": {
      "text/plain": [
       "array([[0. ],\n",
       "       [0.1],\n",
       "       [0.2],\n",
       "       [0.3],\n",
       "       [0.4],\n",
       "       [0.5],\n",
       "       [0.6],\n",
       "       [0.7],\n",
       "       [0.8],\n",
       "       [0.9],\n",
       "       [1. ]])"
      ]
     },
     "execution_count": 18,
     "metadata": {},
     "output_type": "execute_result"
    }
   ],
   "source": [
    "mm = MinMaxScaler()\n",
    "mm.fit(X_train)\n",
    "res = mm.transform(X_train)\n",
    "res\n"
   ]
  },
  {
   "cell_type": "code",
   "execution_count": 19,
   "id": "fee149cc-5902-4bfb-947c-c0d979b9ded9",
   "metadata": {},
   "outputs": [
    {
     "data": {
      "text/plain": [
       "array([[0. ],\n",
       "       [0.1],\n",
       "       [0.2],\n",
       "       [0.3],\n",
       "       [0.4],\n",
       "       [0.5]])"
      ]
     },
     "execution_count": 19,
     "metadata": {},
     "output_type": "execute_result"
    }
   ],
   "source": [
    "res = mm.transform(X_test)\n",
    "res"
   ]
  },
  {
   "cell_type": "markdown",
   "id": "0c48fa1d-e78c-47f8-9fb3-8b41b05d449a",
   "metadata": {},
   "source": [
    "# 아래 절대 안된다.. 5가 1이되는 상황이 발생\n",
    "* test는 train에서 사용한 fit()을 그데로 사용\n",
    "* train 시 5는  0.5였다"
   ]
  },
  {
   "cell_type": "code",
   "execution_count": 20,
   "id": "8a42dab0-6951-463d-a178-cddefde53dd6",
   "metadata": {},
   "outputs": [
    {
     "data": {
      "text/plain": [
       "array([[0. ],\n",
       "       [0.2],\n",
       "       [0.4],\n",
       "       [0.6],\n",
       "       [0.8],\n",
       "       [1. ]])"
      ]
     },
     "execution_count": 20,
     "metadata": {},
     "output_type": "execute_result"
    }
   ],
   "source": [
    "mm.fit(X_test)\n",
    "res = mm.transform(X_test)\n",
    "res"
   ]
  }
 ],
 "metadata": {
  "kernelspec": {
   "display_name": "Python 3 (ipykernel)",
   "language": "python",
   "name": "python3"
  },
  "language_info": {
   "codemirror_mode": {
    "name": "ipython",
    "version": 3
   },
   "file_extension": ".py",
   "mimetype": "text/x-python",
   "name": "python",
   "nbconvert_exporter": "python",
   "pygments_lexer": "ipython3",
   "version": "3.8.8"
  }
 },
 "nbformat": 4,
 "nbformat_minor": 5
}
